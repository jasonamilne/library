{
 "cells": [
  {
   "cell_type": "code",
   "execution_count": 172,
   "metadata": {},
   "outputs": [
    {
     "name": "stdout",
     "output_type": "stream",
     "text": [
      "Overwriting pytest.ini\n"
     ]
    }
   ],
   "source": [
    "%%writefile pytest.ini\n",
    "[pytest]\n",
    "addopts = --disable-warnings --benchmark-disable --cache-clear"
   ]
  },
  {
   "cell_type": "code",
   "execution_count": 173,
   "metadata": {},
   "outputs": [
    {
     "name": "stdout",
     "output_type": "stream",
     "text": [
      "Correct version of Python 3.10.12.\n"
     ]
    }
   ],
   "source": [
    "import sys\n",
    "\n",
    "py_required_version = \"3.10.12\"\n",
    "py_current_version = sys.version.split()[0]\n",
    "\n",
    "if py_current_version != py_required_version:\n",
    "    raise EnvironmentError(f\"Python version mismatch: required {py_required_version}, but found {py_current_version}. Please update your Python version.\")\n",
    "\n",
    "print(f\"Correct version of Python {py_current_version}.\")\n"
   ]
  },
  {
   "cell_type": "markdown",
   "metadata": {},
   "source": [
    "#### 1. Two Sum"
   ]
  },
  {
   "cell_type": "code",
   "execution_count": 174,
   "metadata": {},
   "outputs": [
    {
     "name": "stdout",
     "output_type": "stream",
     "text": [
      "Overwriting src/two_sum.py\n"
     ]
    }
   ],
   "source": [
    "%%writefile src/two_sum.py\n",
    "from typing import List\n",
    "\n",
    "class Solution:\n",
    "    def two_sum(self,nums: List[int], target: int) -> List[int]:\n",
    "        \"\"\"\n",
    "        @Description:\n",
    "\n",
    "        Given an array of integers, return indices of the two numbers such that they add up to a specific target.\n",
    "        You may assume that each input would have exactly one solution, and you may not use the same element twice.\n",
    "        You can return the answer in any order.\n",
    "\n",
    "        @Pseudocode:\n",
    "        - - Check if the input is valid: (list of integers, all entries are integers, list length > 2 and target is an integer).\n",
    "        - Create an empty dictionary to store the numbers and their indices.\n",
    "        - Iterate through the list of numbers.\n",
    "        - Calculate the complement of the current number with respect to the target.\n",
    "        - Check if the complement is already in the dictionary.\n",
    "        - If the complement is found, return the indices of the complement and the current number.\n",
    "        - If the complement is not found, add the current number to the dictionary with its index.\n",
    "        - If no solution is found, return None.\n",
    "\n",
    "        @Applications:\n",
    "\n",
    "        1. Algorithmic Challenges: Commonly used in coding interviews and competitive programming to test problem-solving skills.\n",
    "        2. Financial Analysis: Finding pairs of transactions that sum to a specific value, such as detecting fraudulent activities.\n",
    "        3. Data Analysis: Identifying pairs of data points that meet a specific criterion, such as finding pairs of products whose prices sum to a target value.\n",
    "        4. Game Development: Matching pairs of game elements that meet certain conditions, such as combining resources or items.\n",
    "        5. E-commerce: Recommending product pairs that together meet a customer's budget.\n",
    "\n",
    "        @Complexity:\n",
    "        - Time: O(n)\n",
    "        - Space: O(n)\n",
    "        - Algorithm: Hash Table\n",
    "        \n",
    "        @Contraints:\n",
    "        - 2 <= nums.length <= 10^4\n",
    "        - -10^9 <= nums[i] <= 10^9\n",
    "        - -10^9 <= target <= 10^9\n",
    "\n",
    "        @Params:\n",
    "        - nums: List[int]\n",
    "        - target: int\n",
    "\n",
    "        @Returns: \n",
    "        - List[int]\n",
    "\n",
    "        @Example:\n",
    "        >>> nums = [2,7,11,15]\n",
    "        >>> target = 9\n",
    "        >>> two_sum(nums, target)\n",
    "        [0,1]\n",
    "        \"\"\"\n",
    "\n",
    "        # - Check if the input is valid: (list of integers, all entries are integers, list length > 2 and target is an integer).\n",
    "        if type(nums) != list or not all(isinstance(x, int) for x in nums) or type(target) != int or len(nums) < 2:\n",
    "            raise ValueError(\"Input must be a list of integers\")\n",
    "        # - Create an empty dictionary to store the numbers and their indices.\n",
    "        num_to_index = {}\n",
    "        # - Iterate through the list of numbers.\n",
    "        for index, num in enumerate(nums):\n",
    "            # - Calculate the complement of the current number with respect to the target.\n",
    "            complement = target - num\n",
    "            # - Check if the complement is already in the dictionary.\n",
    "            if complement in num_to_index:\n",
    "                # - If the complement is found, return the indices of the complement and the current number.\n",
    "                return [num_to_index[complement], index]\n",
    "             # - If the complement is not found, add the current number to the dictionary with its index.\n",
    "            num_to_index[num] = index\n",
    "        # - If no solution is found, return None.\n",
    "        return None\n",
    "        \n",
    "def main():\n",
    "    nums = [2,7,11,15]\n",
    "    target = 9\n",
    "    print(Solution().two_sum(nums, target))\n",
    "\n",
    "if __name__ == \"__main__\":\n",
    "    main()"
   ]
  },
  {
   "cell_type": "code",
   "execution_count": 175,
   "metadata": {},
   "outputs": [
    {
     "name": "stdout",
     "output_type": "stream",
     "text": [
      "[0, 1]\n"
     ]
    }
   ],
   "source": [
    "!python3 src/two_sum.py"
   ]
  },
  {
   "cell_type": "code",
   "execution_count": 176,
   "metadata": {},
   "outputs": [
    {
     "name": "stdout",
     "output_type": "stream",
     "text": [
      "Overwriting tests/test_two_sum.py\n"
     ]
    }
   ],
   "source": [
    "%%writefile tests/test_two_sum.py\n",
    "\n",
    "import sys\n",
    "import os\n",
    "\n",
    "# Add the src directory to the Python path\n",
    "sys.path.insert(0, os.path.abspath(os.path.join(os.path.dirname(__file__), '../src')))\n",
    "\n",
    "from two_sum import Solution\n",
    "import pytest\n",
    "\n",
    "@pytest.fixture\n",
    "def solution():\n",
    "    return Solution()\n",
    "\n",
    "def test_two_sum(solution):\n",
    "    assert solution.two_sum([2, 7, 11, 15], 9) == [0, 1] # i = 0, j = 0:1\n",
    "    assert solution.two_sum([3, 2, 4], 6) == [1, 2] # i = 1, j = 0:2\n",
    "    assert solution.two_sum([3, 3], 6) == [0, 1] # i = 0, j = 0:1\n",
    "    assert solution.two_sum([1,2,3,4,5,6,7,8,9,10], 19) == [8, 9] # i = 8, j = 9\n",
    "\n",
    "def test_input_error_cases(solution):\n",
    "    with pytest.raises(ValueError, match=\"Input must be a list of integers\"):\n",
    "        solution.two_sum(['a', 2, 3, 4, 5, 6, 7, 8, 9, 10], 19)\n",
    "    \n",
    "    with pytest.raises(ValueError, match=\"Input must be a list of integers\"):\n",
    "        solution.two_sum([2, 3, 4, 5, 6, 7, 8, 9, 10], 'a')\n",
    "\n",
    "    with pytest.raises(ValueError, match=\"Input must be a list of integers\"):\n",
    "        solution.two_sum([2, 3, 4, 5, 6, 7, 8, 9, 10], [1, 2, 3])\n",
    "\n",
    "    with pytest.raises(ValueError, match=\"Input must be a list of integers\"):\n",
    "        solution.two_sum([], 1)\n",
    "\n",
    "    with pytest.raises(ValueError, match=\"Input must be a list of integers\"):\n",
    "        solution.two_sum([1], 1)\n",
    "\n",
    "def test_time_complexity(solution):\n",
    "    import time\n",
    "    import random\n",
    "\n",
    "    def generate_large_input(size):\n",
    "        return [random.randint(1, 1000000) for _ in range(size)]\n",
    "\n",
    "    sizes = [1000, 2000, 4000, 8000]\n",
    "    times = []\n",
    "\n",
    "    for size in sizes:\n",
    "        nums = generate_large_input(size)\n",
    "        target = nums[0] + nums[-1]  # Ensure worst-case scenario\n",
    "        \n",
    "        start_time = time.time()\n",
    "        solution.two_sum(nums, target)\n",
    "        end_time = time.time()\n",
    "        \n",
    "        times.append(end_time - start_time)\n",
    "\n",
    "    # Check if time complexity is quadratic (O(n^2))\n",
    "    ratios = [times[i+1]/times[i] for i in range(len(times)-1)]\n",
    "    average_ratio = sum(ratios) / len(ratios)\n",
    "\n",
    "    # If the average ratio is close to 4, it suggests quadratic time complexity\n",
    "    assert average_ratio < 4.5, f\"Expected quadratic time complexity, but got ratio: {average_ratio}\""
   ]
  },
  {
   "cell_type": "code",
   "execution_count": 177,
   "metadata": {},
   "outputs": [
    {
     "name": "stdout",
     "output_type": "stream",
     "text": [
      "\u001b[32m.\u001b[0m\u001b[32m.\u001b[0m\u001b[32m.\u001b[0m\u001b[32m                                                                      [100%]\u001b[0m\n",
      "\u001b[32m\u001b[32m\u001b[1m3 passed\u001b[0m\u001b[32m in 0.02s\u001b[0m\u001b[0m\n"
     ]
    }
   ],
   "source": [
    "!PYTHONDONTWRITEBYTECODE=1 pytest -q --tb=short tests/test_two_sum.py"
   ]
  },
  {
   "cell_type": "code",
   "execution_count": 178,
   "metadata": {},
   "outputs": [
    {
     "name": "stdout",
     "output_type": "stream",
     "text": [
      "Overwriting examples/example_two_sum.py\n"
     ]
    }
   ],
   "source": [
    "%%writefile examples/example_two_sum.py\n",
    "\n",
    "import sys\n",
    "import os\n",
    "\n",
    "# Add the src directory to the Python path\n",
    "sys.path.insert(0, os.path.abspath(os.path.join(os.path.dirname(__file__), '../src')))\n",
    "\n",
    "from two_sum import Solution\n",
    "solution = Solution()\n",
    "\n",
    "\"\"\"\n",
    "Financial analysis:\n",
    "Given a porfolio of n = 4 assets, we have a budget of 500 to purchase two assets that sum to the target amount.\n",
    "Find the indices of the two assets that meet the target amount.\n",
    "\"\"\"\n",
    "transactions = [100, 200, 300, 400]\n",
    "target_amount = 500\n",
    "problem = solution.two_sum(transactions, target_amount)\n",
    "print(problem)\n",
    "\n",
    "\"\"\"\n",
    "Data analysis:\n",
    "Given a dataset of n = 4 data points, we have a target value of 50.\n",
    "Find the indices of the two data points that sum to the target value.\n",
    "\"\"\"\n",
    "data_points = [10, 20, 30, 40]\n",
    "target_value = 50\n",
    "problem = solution.two_sum(data_points, target_value)\n",
    "print(problem)\n",
    "\n",
    "\"\"\"\n",
    "Game development\n",
    "Given a list of n = 4 resources, we have a target combination of 25.\n",
    "Find the indices of the two resources that sum to the target combination.\n",
    "\"\"\"\n",
    "resources = [5, 10, 156, 20]\n",
    "target_combination = 25\n",
    "print(solution.two_sum(resources, target_combination))\n",
    "\n",
    "\"\"\"\n",
    "E-commerce\n",
    "Given a list of n = 4 product prices, we have a budget of 175.\n",
    "Find the indices of the two products that sum to the budget amount.\n",
    "\"\"\"\n",
    "prices = [50, 75, 110, 125]\n",
    "budget = 175\n",
    "print(solution.two_sum(prices, budget))"
   ]
  },
  {
   "cell_type": "code",
   "execution_count": 179,
   "metadata": {},
   "outputs": [
    {
     "name": "stdout",
     "output_type": "stream",
     "text": [
      "[1, 2]\n",
      "[1, 2]\n",
      "[0, 3]\n",
      "[0, 3]\n"
     ]
    }
   ],
   "source": [
    "!python3 examples/example_two_sum.py"
   ]
  },
  {
   "cell_type": "markdown",
   "metadata": {},
   "source": [
    "#### 2. Add Two Numbers"
   ]
  },
  {
   "cell_type": "code",
   "execution_count": 180,
   "metadata": {},
   "outputs": [
    {
     "name": "stdout",
     "output_type": "stream",
     "text": [
      "Overwriting src/structs/ListNode.py\n"
     ]
    }
   ],
   "source": [
    "%%writefile src/structs/ListNode.py\n",
    "class ListNode():\n",
    "    def __init__(self, val=0, next=None):\n",
    "        self.val = val\n",
    "        self.next = next \n",
    "    def list_to_nodes(self, values):\n",
    "        head = ListNode(values[0])\n",
    "        current = head\n",
    "        for value in values[1:]:\n",
    "            current.next = ListNode(value)\n",
    "            current = current.next\n",
    "        return head\n",
    "    def nodes_to_list(self, head):\n",
    "        values = []\n",
    "        current = head\n",
    "        while current:\n",
    "            values.append(current.val)\n",
    "            current = current.next\n",
    "        return values"
   ]
  },
  {
   "cell_type": "code",
   "execution_count": 181,
   "metadata": {},
   "outputs": [
    {
     "name": "stdout",
     "output_type": "stream",
     "text": [
      "Overwriting src/add_two_numbers.py\n"
     ]
    }
   ],
   "source": [
    "%%writefile src/add_two_numbers.py\n",
    "from typing import Optional, List\n",
    "from structs.ListNode import ListNode\n",
    "\n",
    "class Solution():\n",
    "    def add_two_numbers(self, l1: Optional[ListNode], l2: Optional[ListNode]) -> Optional[ListNode]:\n",
    "        \"\"\"\n",
    "        @Description:\n",
    "        You are given two non-empty linked lists representing two non-negative integers.\n",
    "        The digits are stored in reverse order, and each of their nodes contains a single digit.\n",
    "        Add the two numbers and return the sum of the linked list.\n",
    "\n",
    "        @Pseudocode:\n",
    "        -\n",
    "\n",
    "        @Applications:\n",
    "        \n",
    "\n",
    "        @Complexity:\n",
    "        - Time: O(n)\n",
    "        - Space: O(n)\n",
    "        - Algorithm: Linked List\n",
    "\n",
    "        @Constraints:\n",
    "        - The number of nodes in each linked list is in the range [1, 100].\n",
    "        - 0 <= Node.val <= 9\n",
    "        - It is guaranteed that the list represents a number that does not have leading zeros.\n",
    "\n",
    "        @Parameters:\n",
    "        - l1: Optional[ListNode]\n",
    "        - l2: Optional[ListNode]\n",
    "\n",
    "        @Returns:\n",
    "        - Optional[ListNode]\n",
    "\n",
    "        @Example:\n",
    "        >>> l1 = [2, 4, 3]\n",
    "        >>> l2 = [5, 6, 4]\n",
    "        >>> add_two_numbers(l1, l2)\n",
    "        [7, 0, 8]\n",
    "        \"\"\"\n",
    "        def validate_list_node(node):\n",
    "            current = node\n",
    "            while current:\n",
    "                if not isinstance(current.val, int):\n",
    "                    raise ValueError(\"Input must be a list of integers\")\n",
    "                current = current.next\n",
    "\n",
    "        validate_list_node(l1)\n",
    "        validate_list_node(l2)\n",
    "            \n",
    "        dummy_head = ListNode(0)\n",
    "        current = dummy_head\n",
    "        carry = 0\n",
    "        \n",
    "        while l1 or l2 or carry:\n",
    "            x = l1.val if l1 else 0\n",
    "            y = l2.val if l2 else 0\n",
    "            total = carry + x + y\n",
    "            carry = total // 10\n",
    "            current.next = ListNode(total % 10)\n",
    "            current = current.next\n",
    "            \n",
    "            if l1: l1 = l1.next\n",
    "            if l2: l2 = l2.next\n",
    "        \n",
    "        return dummy_head.next\n",
    "\n",
    "def main():\n",
    "    l1 = [2, 4, 3]\n",
    "    l1 = ListNode().list_to_nodes(l1)\n",
    "    l2 = [5, 6, 4]\n",
    "    l2 = ListNode().list_to_nodes(l2)\n",
    "    result = Solution().add_two_numbers(l1, l2)\n",
    "    print(ListNode().nodes_to_list(result))\n",
    "\n",
    "if __name__ == \"__main__\":\n",
    "    main()"
   ]
  },
  {
   "cell_type": "code",
   "execution_count": 182,
   "metadata": {},
   "outputs": [
    {
     "name": "stdout",
     "output_type": "stream",
     "text": [
      "[7, 0, 8]\n"
     ]
    }
   ],
   "source": [
    "!python3 src/add_two_numbers.py"
   ]
  },
  {
   "cell_type": "code",
   "execution_count": 183,
   "metadata": {},
   "outputs": [
    {
     "name": "stdout",
     "output_type": "stream",
     "text": [
      "Overwriting tests/test_add_two_numbers.py\n"
     ]
    }
   ],
   "source": [
    "%%writefile tests/test_add_two_numbers.py\n",
    "import sys\n",
    "import os\n",
    "\n",
    "# Add the src directory to the Python path\n",
    "sys.path.insert(0, os.path.abspath(os.path.join(os.path.dirname(__file__), '../src')))\n",
    "from add_two_numbers import Solution\n",
    "from structs.ListNode import ListNode\n",
    "\n",
    "import pytest\n",
    "\n",
    "@pytest.fixture\n",
    "def solution():\n",
    "    return Solution()\n",
    "\n",
    "# Test cases: test functionality\n",
    "def test_add_two_numbers(solution):\n",
    "    l1, l2 = [2,4,3], [5,6,4]\n",
    "    l1, l2 = ListNode().list_to_nodes(l1), ListNode().list_to_nodes(l2)\n",
    "    l2 = ListNode().list_to_nodes(l2)\n",
    "    result = solution.add_two_numbers(l1, l2)\n",
    "    assert ListNode().nodes_to_list(result) == [7, 0, 8]\n",
    "\n",
    "# Test cases: Basic functionality\n",
    "def test_add_two_numbers(solution):\n",
    "    l1, l2 = [0], [0]\n",
    "    l1, l2 = ListNode().list_to_nodes(l1), ListNode().list_to_nodes(l2)\n",
    "    result = solution.add_two_numbers(l1, l2)\n",
    "    assert ListNode().nodes_to_list(result) == [0]\n",
    "\n",
    "# Test cases: Basic functionality\n",
    "def test_additional_tests(solution):\n",
    "    l1, l2 = [9,9,9,9,9,9,9], [9,9,9,9]\n",
    "    l1, l2 = ListNode().list_to_nodes(l1), ListNode().list_to_nodes(l2)\n",
    "    result = solution.add_two_numbers(l1, l2)\n",
    "    assert ListNode().nodes_to_list(result) == [8,9,9,9,0,0,0,1]\n",
    "\n",
    "# Test cases: test input error cases\n",
    "def test_data_types(solution):\n",
    "    with pytest.raises(ValueError, match=\"Input must be a list of integers\"):\n",
    "        l1 = ListNode().list_to_nodes(['a', 4, 3])\n",
    "        l2 = ListNode().list_to_nodes([5, 6, 4])\n",
    "        solution.add_two_numbers(l1, l2)\n",
    "\n",
    "    with pytest.raises(ValueError, match=\"Input must be a list of integers\"):\n",
    "        l1 = ListNode().list_to_nodes([2, 4, 3])\n",
    "        l2 = ListNode().list_to_nodes(['a', 6, 4])\n",
    "        solution.add_two_numbers(l1, l2)\n",
    "\n",
    "    with pytest.raises(ValueError, match=\"Input must be a list of integers\"):\n",
    "        l1 = ListNode().list_to_nodes(['b', 4, 3])\n",
    "        l2 = ListNode().list_to_nodes([5, 6, 'a'])\n",
    "        solution.add_two_numbers(l1, l2)"
   ]
  },
  {
   "cell_type": "code",
   "execution_count": 184,
   "metadata": {},
   "outputs": [
    {
     "name": "stdout",
     "output_type": "stream",
     "text": [
      "\u001b[32m.\u001b[0m\u001b[32m.\u001b[0m\u001b[32m.\u001b[0m\u001b[32m                                                                      [100%]\u001b[0m\n",
      "\u001b[32m\u001b[32m\u001b[1m3 passed\u001b[0m\u001b[32m in 0.01s\u001b[0m\u001b[0m\n"
     ]
    }
   ],
   "source": [
    "!PYTHONDONTWRITEBYTECODE=1 pytest -q --tb=short tests/test_add_two_numbers.py"
   ]
  },
  {
   "cell_type": "code",
   "execution_count": 185,
   "metadata": {},
   "outputs": [
    {
     "name": "stdout",
     "output_type": "stream",
     "text": [
      "Overwriting examples/example_add_two_numbers.py\n"
     ]
    }
   ],
   "source": [
    "%%writefile examples/example_add_two_numbers.py\n",
    "\n",
    "import os\n",
    "import sys\n",
    "sys.path.insert(0, os.path.abspath(os.path.join(os.path.dirname(__file__), '../src')))\n",
    "from add_two_numbers import Solution\n",
    "from structs.ListNode import ListNode\n",
    "\n",
    "solution = Solution()\n",
    "\n",
    "# Finance: Adding two numbers represented as linked lists\n",
    "ts_stock_a = [1, 2, 3]\n",
    "ts_stock_a  = ListNode().list_to_nodes(ts_stock_a )\n",
    "ts_stock_b  = [4, 5, 6]\n",
    "ts_stock_b= ListNode().list_to_nodes(ts_stock_b)\n",
    "result = solution.add_two_numbers(ts_stock_a, ts_stock_b)\n",
    "print(ListNode().nodes_to_list(result))\n",
    "\n",
    "# Data Analysis: Summing two linked lists representing data points\n",
    "data_points_a = [7, 8, 9]\n",
    "data_points_a = ListNode().list_to_nodes(data_points_a)\n",
    "data_points_b = [1, 1, 1]\n",
    "data_points_b = ListNode().list_to_nodes(data_points_b)\n",
    "result = solution.add_two_numbers(data_points_a, data_points_b)\n",
    "print(ListNode().nodes_to_list(result))\n",
    "\n",
    "# Game Development: Combining resources represented as linked lists\n",
    "resources_a = [2, 4, 3]\n",
    "resources_a = ListNode().list_to_nodes(resources_a)\n",
    "resources_b = [5, 6, 4]\n",
    "resources_b = ListNode().list_to_nodes(resources_b)\n",
    "result = solution.add_two_numbers(resources_a, resources_b)\n",
    "print(ListNode().nodes_to_list(result))\n",
    "\n",
    "# E-commerce: Adding prices represented as linked lists\n",
    "prices_a = [9, 8, 8]\n",
    "prices_a = ListNode().list_to_nodes(prices_a)\n",
    "prices_b = [1]\n",
    "prices_b = ListNode().list_to_nodes(prices_b)\n",
    "result = solution.add_two_numbers(prices_a, prices_b)\n",
    "print(ListNode().nodes_to_list(result))\n",
    "\n",
    "# E-commerce: Adding prices represented as linked lists\n",
    "prices_a = [9, 9, 9]\n",
    "prices_a = ListNode().list_to_nodes(prices_a)\n",
    "prices_b = [1]\n",
    "prices_b = ListNode().list_to_nodes(prices_b)\n",
    "result = solution.add_two_numbers(prices_a, prices_b)\n",
    "print(ListNode().nodes_to_list(result))\n",
    "\n",
    "# E-commerce: Adding prices represented as linked lists\n",
    "prices_a = [9, 9, 9]\n",
    "prices_a = ListNode().list_to_nodes(prices_a)\n",
    "prices_b = [1, 0, 0]\n",
    "prices_b = ListNode().list_to_nodes(prices_b)\n",
    "result = solution.add_two_numbers(prices_a, prices_b)\n",
    "print(ListNode().nodes_to_list(result))\n",
    "\n",
    "# E-commerce: Adding prices represented as linked lists\n",
    "prices_a = [9, 9, 9]\n",
    "prices_a = ListNode().list_to_nodes(prices_a)\n",
    "prices_b = [0, 0, 1]\n",
    "prices_b = ListNode().list_to_nodes(prices_b)\n",
    "result = solution.add_two_numbers(prices_a, prices_b)\n",
    "print(ListNode().nodes_to_list(result))"
   ]
  },
  {
   "cell_type": "code",
   "execution_count": 186,
   "metadata": {},
   "outputs": [
    {
     "name": "stdout",
     "output_type": "stream",
     "text": [
      "[5, 7, 9]\n",
      "[8, 9, 0, 1]\n",
      "[7, 0, 8]\n",
      "[0, 9, 8]\n",
      "[0, 0, 0, 1]\n",
      "[0, 0, 0, 1]\n",
      "[9, 9, 0, 1]\n"
     ]
    }
   ],
   "source": [
    "!python3 examples/example_add_two_numbers.py"
   ]
  },
  {
   "cell_type": "code",
   "execution_count": 187,
   "metadata": {},
   "outputs": [],
   "source": [
    "!rm -rf src/__pycache__ \n",
    "!rm -rf src/structs/__pycache__\n",
    "!rm -rf .benchmarks .pytest_cache"
   ]
  }
 ],
 "metadata": {
  "kernelspec": {
   "display_name": "Python 3",
   "language": "python",
   "name": "python3"
  },
  "language_info": {
   "codemirror_mode": {
    "name": "ipython",
    "version": 3
   },
   "file_extension": ".py",
   "mimetype": "text/x-python",
   "name": "python",
   "nbconvert_exporter": "python",
   "pygments_lexer": "ipython3",
   "version": "3.10.12"
  }
 },
 "nbformat": 4,
 "nbformat_minor": 2
}
